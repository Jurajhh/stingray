from __future__ import (absolute_import, division,
                        print_function)

import collections
import logging
import math
import numpy as np
import os
import six
import warnings

from astropy.io import fits
from astropy.table import Table

import stingray.utils as utils
from stingray.utils import order_list_of_arrays, is_string
from stingray.utils import assign_value_if_none

from stingray.gti import _get_gti_from_extension, load_gtis

def _isattribute(data):
    """
    Check if data is a single number or an array.

    Parameters
    ----------
    data : object
        The object to be checked.
        The object must be list, list of tuples, tuple, tuple of tuples, tuple of lists and ndarrays.

    Returns:
        bool
        True if the data is a single number, False if it is an iterable.
    """
    
    data = np.asarray(data)
    return (np.size(data)==1)

"""
    if isinstance(data, np.ndarray) or isinstance(data, list):
        
        return False        
    else:
        return True
"""

list_of_one_variable = [1]
list_of_two_variables = [1,2]

array_of_one_variable = np.array([1])
array_of_two_variables = np.array([1,2])

print("Type of list_of_one_variable:",type(list_of_one_variable))
print("Type of list_of_two_variables:",type(list_of_two_variables),"\n")

print("Size of list_of_one_variable:",np.size(list_of_one_variable))
print("Size of list_of_two_variables:",np.size(list_of_two_variables),"\n")

print("_isattribute(list_of_one_variable):",_isattribute(list_of_one_variable))
print("_isattribute(list_of_two_variables):",_isattribute(list_of_two_variables),"\n")


print("Type of array_of_one_variable:",type(array_of_one_variable))
print("Type of array_of_two_variables:",type(array_of_two_variables),"\n")

print("Size of array_of_one_variable:",np.size(array_of_one_variable))
print("Size of array_of_two_variables:",np.size(array_of_two_variables),"\n")

print("_isattribute(array_of_one_variable):",_isattribute(array_of_one_variable))
print("_isattribute(array_of_two_variables):",_isattribute(array_of_two_variables),"\n")
